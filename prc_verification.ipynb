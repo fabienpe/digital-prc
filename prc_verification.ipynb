{
 "cells": [
  {
   "cell_type": "markdown",
   "metadata": {},
   "source": [
    "## Verification of PRC QR code"
   ]
  },
  {
   "cell_type": "code",
   "execution_count": 6,
   "metadata": {},
   "outputs": [],
   "source": [
    "# Load the public key from the PEM file\n",
    "with open('public_key_ec.pem', 'rb') as f:\n",
    "    public_key_pem = f.read()"
   ]
  },
  {
   "cell_type": "markdown",
   "metadata": {},
   "source": [
    "### Read QR code"
   ]
  },
  {
   "cell_type": "code",
   "execution_count": 7,
   "metadata": {},
   "outputs": [
    {
     "name": "stdout",
     "output_type": "stream",
     "text": [
      "Data encoded in the QR code: 6BF-ZB$YR1SJS620OK.DE-6Q4OQ9:CA:IB36WM9INB8XJCAI7HHDS1UWT6+TII5M*77SA0U981A69Q6/O3V384KP47D$2XD4-.DIDPE6T7 5A8PT6VVDV$SHK19J-9ZOQQ.61K0%RN-S8A7EUTQ*YIOZ5JFJGQE:B4AGMGHD:.UD.9IXN 8DDJ5I2FSSP%ZFRKCL65V/Q$M7YMN:Z91174$4E AIZD%NRP3JVXSN07-RKOJ3JDTOR4WEOY/6W3K B6XQFNG7O AQ17.WBKHK-SP/6DXXVLMSZ5IPA8*0V7Z7CVGP.CT$DZGOIKM81906LW0I39L$:5EYM-XS83SJGQ*V6.SA+B5M6PO%EV0WGDF97KB/A9FEQ34OVPO$QK+6PNEE2DD04TOC.M4E1DXZDVG4QEP2322YVA*R*$AJ/Q5064FDK9RE3CO%K9-FRHL7TMFASFQ6LDV4BTO PA-INNK:LOK3M95TLUQL95-AVDF2+W1D67.ZV9JHQ GP+B2+CHNRY.AC5EFBRZVP9YDJ1VXHTFWNM%E96SMRFK6RXBWM9RT7TRRIPY6 4I.CJ3KV*TUE26+GFBPC3FS VGJZJOGF396*XST1V$9B2:JCV99J1CB3XCQVPTTOMS8AF+9Y.LIF84Q9-BV9U3L2MK3U4GWUD5- Q90C5Z4Y3V/RK$UNW9Q.XV+R5F.KWNR8XFT0VO7HD6C5DN0I5H CZ4G:IIG:Q/SVNWP7IL60IR.94IOU*N+ HA8P:TTL511JP54SX5UH-JX9W$18*/96$SOUJBBN2H2P.6XRF1QP-62.X2.FE J7XKA2CJQAR D23IR*O3SDQUV0 +OJY4SFD:D3AD0QPK-:90S4N16%P4W+C$LTDHM109PIS1ZUQ2TTAGU EW+5$2TH$ORY86/GOJQL+KGBD:%6SXTIEOO0MJ.VQTPC-IX.VSEQE-MF+0H.S4V9G2V*ZJBYMGT3ESK%FH+IL LAV0H:VVI%M+-NN+V*EWS3E$+0PRLAMQ7$PWC3N%QPOBU:K$YIMMBEQL69BVMNYQHLTBS4RD02F9VRFWOO1H:7EH3/.Q$BU$B07Z00I5G6RYK8%77SW5X4A2M71W6VMDL/33UVCACDF826L*NT3PRMNU7JC8ZS716S1M23N1UOV.V1XV%J6GLG\n"
     ]
    }
   ],
   "source": [
    "from pyzbar.pyzbar import decode\n",
    "from PIL import Image\n",
    "\n",
    "# Load the QR code image\n",
    "img = Image.open('qrcode.png')\n",
    "\n",
    "# Decode the QR code\n",
    "decoded_objects = decode(img)\n",
    "\n",
    "# Extract the data from the decoded objects\n",
    "encoded_data = decoded_objects[0].data.decode('utf-8')\n",
    "print(\"Data encoded in the QR code:\", encoded_data)\n"
   ]
  },
  {
   "cell_type": "markdown",
   "metadata": {},
   "source": [
    "### Decode the content of the QR code"
   ]
  },
  {
   "cell_type": "code",
   "execution_count": 8,
   "metadata": {},
   "outputs": [
    {
     "name": "stdout",
     "output_type": "stream",
     "text": [
      "Decoded data: b'x\\x9c]S\\xdb\\xb2\\x9b8\\x10\\xfc\\xa2lq1\\xce\\xe1\\xd1\\xe6f\\xb1\\x96(0\\x08K/[ \\x9c \\x900\\x89}\\x0c\\xe2\\xeb#\\xecs*\\xc9>PT\\rLwOO\\xcfE\\xc5m\\x1d1\\x9e\\xf08,\\x16`\"\\x0en`\\xc8\\x1c\\xe6\\x81-\\xe8\\xc73\\xf6b\\xf7\\x9f\\x8b\\x8aGrNy\\xd2\\x056\\xf2\\x03\\x85\\xba\\xd4D]p\\x03\\xd2\\xe1\\x94\\x83-\\xcc\\x99\\x01s`!\\xbf\\xb0\\xe0i\\xe2\\xf4\\xdcN\\xa0\\xbb\\xceha*\\xf1w\\x13\\xca\\xc9|\\xf4b\\x8b(\\xb0\\xd5X;b\\xb9\\xefM\\x847\\x8d&)U|m\\x0e\\xd9\\xc4\\x96\\xeb\\xe3h7v\\xa3\\x1c\\x1b*\\xe7\\xc1${\\xc0n7\\'\\x9e\\xdb1\\x89{Z:FU\\x867\\xa6\\\\\\xcd\\xa1E\\xca\\xd6h\\x0e\\xfb%\\xe1o\\x8ffA#\\xf5^=\\x8d\\x84\\x0ffgms\\xc0\\xcb\\xb1\\x9cGf\\xa7+\\x8e\\x82\\xa7\\xb5/n\\xb4\\x0e\\xe3r\\xde\\x0b\\xd0\\x8d5\\x10T0)\\xa4\\xc6\\xe5u\\x84\\xfd?y\\x00\\x9fxV\\xb4qj E\\xcbL\\xd4C6\\x92r\\xe2g=\\x1f\\xb1cA#\\xacg\\x10m\\x1d\"\\x93\\xc8Q\\x10[\\xfb3\\xdcxU\\xc2\\xd5L/{i|\\xd7<_\\x81\\xa4\\xfa}\\xe5\\xa95\\xb3&\\xdfM4\\x17\\xf7\\x95\\xe7X\\xcc-\\x95\\xa1\\xa2V\\xc1\\xb5\\xae\\xa1\\xe6O\\xd3\\x05)7\\xf7\"\\x12\\x82\\r\\xb18z\\xfb\\x88\\x89\\xd9\\x84\\xfe^$e\\xf6\\xd9\\xafV\\x9eo\\xab\\xd7\\x91\\xcbWl\\xd8\\xf5w\\xe8\\x83\\xbb\\x9eu\\x82\\xde\\x93{|\\xd6\\xb5\\xff0\\xd7>\\xe6\\xbd\\x93<5\\x89\\x8f:\\x98\\x91\\xf8\\xbe\\xf2\\x8e/\\xdey\\x9fc\\\\\\xe0\"\\x84\\'\\x9c\\x85y\\x8f1\\x0e\\xe3p\\xf5\\x81X\\xbd\\x9e\\tL\\xb0\\x0bI\\x19\\xb6\\xcf\\xe7\\xe9\\xe9\\xb2[P\\x9eNH\\xad\\xa1A\\xfdK\\xc7\\xf7O\\x1d\\n\\xaeu\\xed\\xe9\\xff\\xf4)\\xf4\\xd4\\'^\\xf5%\\xd0\\xf5\\xe0\\xa3\\x1e\\xbbZ\\xcf_\\xfb.,t\\xa5\\xa5\\xd9\\xbe||\\xf5T\\x87\\xcc`\\x07\\xb8=*\\xb7eQ\\x7fg\\x91\\xb8\\xd5v\\xfaN\\xcbx\\xa9N\\x8ehN\\xae\\xc1\\x06\\xbc\\xe8\\x8c\\xf5\\xc73\\xea\\xaa\\x08\\xdf\\xc9\\x19\\xde5\\xeeP\\x9d\\x91\\xfe\\xd6?\\x9aN\\xe7\\xe4\\x03\\x9b\\xa9\\xb7\\xe9\\x12\\xd16\\xf1{\\x87\\xcaT\\x11\\t\\x15\\xc9q\\x8b:\\xdaR\\xbf\\x98i\\xd7o\\x12?\\xd8\\xc0\\x1c\\x1a\\xd0\\x0f\\x05\\x91\\xc5\\x04%\\xb1i\\x94\\x1a0\\x02S\\xa2\\xb3O\\x16$\\x90/\\xba$/f\\x14\\xe9;\\xb1\\x10G2\\xe0\\xbf\\xf3v\\xe5\\xd9\\x80ou0.\\xb5\\xe5\\xe4\\xc4jE]\\x86%\\xd1\\x19\\xa5Qh\\xd46P\\xebN\\xc0`\\xae\\x1e\\xfc\\xac\\xca\\xf4\\x95\\xa3\\xfc\\xba\\xd0<\\xb5I\\x07\\x17\\xe4\\xefL\\xa8\\xf5\\xa1\\x9c\\x99\\xb4\\x0b\\x1c\\xe4\\xa3.\\x89B\\xa9oR\\xef\\x86\\x98\\xfa\\xd6\\xb4\\xc6\\xbdL\\xfcV\\xff\\xbdoa\\x07-\\xaa\\xf5\\xd1\\x92\\xccI\\x19\\xf7\\xd4o[T\\xa6\\x0e\\x94\\x81Z\\xf7\\xaa\\xbdX\\x9e\\xb9\\xec\\x8b-\\\\1\\xd6c\\x0f\\xdf\\xf6\\xdb\\xff\\xde\\x0c9?,\\x1a\\xc6\\xd57\\xefb\\x02\\x14\\x06.*\\xb7\\xd6\\xb1B\\xee8\\xc0-IO\\xef;?5\\x17j\\xd2\\x1f_\\xfa\\x80`\\xbaA\\xf8\\xa7-\\xe9\\x97\\xd9\\xfb\\xf1obJ\\xe3\\xab/\\xaa\\xaeO\\xb6x\\xc3\\x1f\\xfc\\xb8\\xfb\\x052\\xf3\\x82Q'\n"
     ]
    }
   ],
   "source": [
    "import base45\n",
    "\n",
    "decoded_data = base45.b45decode(encoded_data)\n",
    "print(\"Decoded data:\", decoded_data)"
   ]
  },
  {
   "cell_type": "markdown",
   "metadata": {},
   "source": [
    "### Uncompress data"
   ]
  },
  {
   "cell_type": "code",
   "execution_count": 9,
   "metadata": {},
   "outputs": [
    {
     "name": "stdout",
     "output_type": "stream",
     "text": [
      "Uncompressed decoded data: b'eyJhbGciOiJFUzI1NiIsInR5cCI6IkpXVCJ9.eyJpYXQiOjE3NDEyNjQ1NjEsIm5iZiI6MTc0MTI2NDU2MSwiZXhwIjoxNzcyODAwNTYxLCJ2YyI6eyJAY29udGV4dCI6WyJodHRwczovL3d3dy53My5vcmcvMjAxOC9jcmVkZW50aWFscy92MSIsImh0dHBzOi8vdzNpZC5vcmcvdmMvc3RhdHVzLWxpc3QvMjAyMS92MSJdLCJ0eXBlIjpbIlZlcmlmaWFibGVDcmVkZW50aWFsIiwiRUhJQ0NyZWRlbnRpYWwiXSwiY3JlZGVudGlhbFN1YmplY3QiOnsiaWMiOiJCRSIsImhuIjp7ImZuIjoiQ2xcdTAwZTltZW50LUxhZmFyZ2UiLCJnbiI6IkplYW4tUGllcnJlLCBGclx1MDBlOWRcdTAwZTlyaWMifSwiZG9iIjoiMjktMDItMjAwMCIsImhpIjoiMDAwMTAxOTk5OSIsImlpIjoiMDIxNlgiLCJpbiI6IkxBTVVUVUFMSVRFTkVVVFJFIiwiY2kiOiIwMjFYWFhYWFhYMjAyMzAzNTQwNyIsInNkIjoiMjgtMDItMjAyMyIsImVkIjoiMjktMDItMjAyNCIsImlkIjoiMzEtMDEtMjAyNCJ9LCJjcmVkZW50aWFsU2NoZW1hIjp7ImlkIjoiaHR0cHM6Ly9hcGktcGlsb3QuZWJzaS5ldS90cnVzdGVkLXNjaGVtYXMtcmVnaXN0cnkvdjMvc2NoZW1hcy8weGZhODk5ZmQyYmMyYTVhNjZhZDUxZjk4ODE4MTM0MDFlYmUwMmY3ZGQ0MGIwOTI2YzNlNDljOTUxNGE3N2NiNmEiLCJ0eXBlIjoiRnVsbEpzb25TY2hlbWFWYWxpZGF0b3IyMDIxIn19LCJraWQiOiJCRTozZTQ3YjMzNDA1MmQyNTc1ZjE5NDNjOGFmNDEwMjY1ODA4MTBmODhjMzBhMjM2ZGIwZWYxOWJkZDhhNWQ5MmEyIiwiaXNzIjoiQkU6MDEwMCJ9.F8B6_80mxv2ZFJafCe1INFE9NW62LaN9pnM6YQSuADQ1zZ1Zq-kEYVZ4NVr3mZ-xCqKO1m07DlajkO6V4iviLA'\n"
     ]
    }
   ],
   "source": [
    "import zlib\n",
    "\n",
    "# Use ZLib to decompress the decoded data\n",
    "uncompressed_data = zlib.decompress(decoded_data)\n",
    "print(\"Uncompressed decoded data:\", uncompressed_data)"
   ]
  },
  {
   "cell_type": "markdown",
   "metadata": {},
   "source": [
    "### Verify the signature\n",
    "The uncompressed decoded data is assumed to be a signed JWT. It is verified with the public key and decoded"
   ]
  },
  {
   "cell_type": "code",
   "execution_count": 10,
   "metadata": {},
   "outputs": [
    {
     "name": "stdout",
     "output_type": "stream",
     "text": [
      "Decoded JWS:\n",
      "{\n",
      "    \"iat\": 1741264561,\n",
      "    \"nbf\": 1741264561,\n",
      "    \"exp\": 1772800561,\n",
      "    \"vc\": {\n",
      "        \"@context\": [\n",
      "            \"https://www.w3.org/2018/credentials/v1\",\n",
      "            \"https://w3id.org/vc/status-list/2021/v1\"\n",
      "        ],\n",
      "        \"type\": [\n",
      "            \"VerifiableCredential\",\n",
      "            \"EHICCredential\"\n",
      "        ],\n",
      "        \"credentialSubject\": {\n",
      "            \"ic\": \"BE\",\n",
      "            \"hn\": {\n",
      "                \"fn\": \"Clément-Lafarge\",\n",
      "                \"gn\": \"Jean-Pierre, Frédéric\"\n",
      "            },\n",
      "            \"dob\": \"29-02-2000\",\n",
      "            \"hi\": \"0001019999\",\n",
      "            \"ii\": \"0216X\",\n",
      "            \"in\": \"LAMUTUALITENEUTRE\",\n",
      "            \"ci\": \"021XXXXXXX2023035407\",\n",
      "            \"sd\": \"28-02-2023\",\n",
      "            \"ed\": \"29-02-2024\",\n",
      "            \"id\": \"31-01-2024\"\n",
      "        },\n",
      "        \"credentialSchema\": {\n",
      "            \"id\": \"https://api-pilot.ebsi.eu/trusted-schemas-registry/v3/schemas/0xfa899fd2bc2a5a66ad51f9881813401ebe02f7dd40b0926c3e49c9514a77cb6a\",\n",
      "            \"type\": \"FullJsonSchemaValidator2021\"\n",
      "        }\n",
      "    },\n",
      "    \"kid\": \"BE:3e47b334052d2575f1943c8af41026580810f88c30a236db0ef19bdd8a5d92a2\",\n",
      "    \"iss\": \"BE:0100\"\n",
      "}\n"
     ]
    }
   ],
   "source": [
    "import jwt\n",
    "import json\n",
    "\n",
    "decoded_jws = jwt.decode(uncompressed_data, public_key_pem, algorithms=['ES256'])\n",
    "print(\"Decoded JWS:\")\n",
    "print(json.dumps(decoded_jws, indent=4, ensure_ascii=False))"
   ]
  }
 ],
 "metadata": {
  "kernelspec": {
   "display_name": ".venv",
   "language": "python",
   "name": "python3"
  },
  "language_info": {
   "codemirror_mode": {
    "name": "ipython",
    "version": 3
   },
   "file_extension": ".py",
   "mimetype": "text/x-python",
   "name": "python",
   "nbconvert_exporter": "python",
   "pygments_lexer": "ipython3",
   "version": "3.12.8"
  }
 },
 "nbformat": 4,
 "nbformat_minor": 2
}
