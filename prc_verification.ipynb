{
 "cells": [
  {
   "cell_type": "markdown",
   "metadata": {},
   "source": [
    "## Verification of PRC QR code"
   ]
  },
  {
   "cell_type": "code",
   "execution_count": 37,
   "metadata": {},
   "outputs": [],
   "source": [
    "# Load the public key from the PEM file\n",
    "with open('public_key_ec.pem', 'rb') as f:\n",
    "    public_key_pem = f.read()"
   ]
  },
  {
   "cell_type": "markdown",
   "metadata": {},
   "source": [
    "### Read QR code"
   ]
  },
  {
   "cell_type": "code",
   "execution_count": 38,
   "metadata": {},
   "outputs": [
    {
     "name": "stdout",
     "output_type": "stream",
     "text": [
      "Data encoded in the QR code: 6BF-ZBF$BINLS62CZ8FD17VBASA O1FI8H70 /BLR43S9564*WE%-S8CS.TF6/F16AI 0%QN6XQ8BA17MQ 4$62QHNHI1-COM-U8VPDBMY0U5I52CDMZTLOKDYJ2GI+OF5RVOC5VHLW8NIHQZJG6EMVBJF626*BLVJWI3H$7*72C6N1GD8CIZN42LT/RFMX919BFDB:JC56O9DMP2R%YK$MQ.*7 N4G8ND.TQ.9OSBJJ5YJPI7V%/P7K9H$9XQNF.K9RD$YPS6QH4PI09URM1.A:IRUU8P8KD%8W3VSY7G/00+PKAF6555UBSJ0GRQW0I9BP716DT1JYT QRPDQUW2$VAG-96:C2FLETO9/6T42EFPF*3: 2O%MSXC11D$956EEW0I 676ZKKECHDING16MG2QGL2ID9LESHM81/C66.T+PU3HSWMGMQJ0%4-QFK 6C/HCYP*VHP9T57L/DKI%J6XO-9MBO9ZE9O/S0:1UVC0R4:1EWF6PY5%9OVD9L4W31BH4QDWO-.GGD61:GYZVH+7ZBJ3495:N.4HL/RKEU%HT-NB*FF:LIU EJA4U+JA4H/7U*UOIFIGDF25I6+2C1NZKH7E10X3U0SJ.J/31LBGN803X7M%91+ASZJ799 0LW1UOCPU+1QX0ZRN-+U2*VIOFQVI3SNFWJV8W4%3 Q1PFWJ4F+RKNV5K.VOZS+BTYDP6:EYTLF DKM13+0/1T9NEL3EZ/80XFG$CN%ROYLG*MA6BE6KOOE-PHPD7I6HIYR*3A WF67K/PC%RUOUJK1V57115A46R%$BY49YX21U02Y1T+QW15N%M:*O5/5 .G7%UJE9GXFMW31AD3IB/O0JMG9Y91PIX5J/OG7912$4R$6RFLQSHA-V3K2F5CJXL8BKBZR6+OPNMMSGW43XPQ8CMP/0CNVF88+AJD76.-G66AI8A ZMQCIVS5*UN4B8C9N5U1AT6WG88KDQRIOBL3PE7 67$JG$4VAWRN39YTY675%MX*58JPHJOESK7J2RQ5GCHXMUDONVO7G91147B-4/RPQCFO.DCK732MM8V2FN61CC4VXTRSMTZ4HRS6BB1W9H.QSV9H:KM/C944WA04N/2B0UBPDPE9C6FGZ4U/C/XM1%RJKUM-FY5IK6J AWQ-SZAG\n"
     ]
    }
   ],
   "source": [
    "from pyzbar.pyzbar import decode\n",
    "from PIL import Image\n",
    "\n",
    "# Load the QR code image\n",
    "img = Image.open('qrcode.png')\n",
    "\n",
    "# Decode the QR code\n",
    "decoded_objects = decode(img)\n",
    "\n",
    "# Extract the data from the decoded objects\n",
    "encoded_data = decoded_objects[0].data.decode('utf-8')\n",
    "print(\"Data encoded in the QR code:\", encoded_data)\n"
   ]
  },
  {
   "cell_type": "markdown",
   "metadata": {},
   "source": [
    "### Decode the content of the QR code"
   ]
  },
  {
   "cell_type": "code",
   "execution_count": 39,
   "metadata": {},
   "outputs": [
    {
     "name": "stdout",
     "output_type": "stream",
     "text": [
      "Decoded data: b\"x\\x9c]S]\\x93\\xaa:\\x10\\xfcE{\\nA\\\\}T\\x10\\x0cEB\\x81\\x01L^\\xb6$xL  \\xb7t\\x85\\xe4\\xd7\\xdf\\xa0{\\xea~<P)\\x06f\\xba\\xa7\\xd3}Q\\x11\\xafB&\\x12\\x11\\x05\\xb9\\x06\\x0b$\\xc0\\x1d\\xf4\\x99\\xcb<\\xb0\\x02\\xedp*\\xbch\\xf3\\xeb\\xa2\\xa2\\x81\\x9cR\\x914{\\x07\\xf9\\xfb)\\xc1\\xa99\\xb7w\\xd0\\xb9\\x82\\n\\xb0\\x82\\x98Y\\x10\\xef]\\xe4\\x9b\\xd3\\x1b\\x05=\\xf1\\x114\\xb7\\ti\\xa6\\x90\\x86#\\xd2\\xe9\\x18{\\x91M\\x14X\\x99Y[bo\\xbe\\xeb\\xb0X\\xd6\\x06\\xa4T\\xd1\\xad>d#\\xd3\\xb7g\\xec\\xd4N\\xad\\\\\\x07*\\xf7\\xc9:\\xf6\\x84\\xcdvJ\\xbcM\\xc3\\xba\\xa2\\xa5\\xa5k\\x9d\\xcb\\xe0\\xce\\xd4\\xc6\\x86GC\\xb2\\xe3V}\\xd8\\xe9D\\xac\\x9f\\xb5F\\x03\\xf5\\xde=u\\x07\\x9f\\xcc\\xc9x}(t\\\\N\\x03s\\xd2y\\x8e\\x82\\xc7\\xb9/\\xaa\\r\\x0f\\xebr\\xdaI\\xd0\\x0c\\x15\\x90T\\xb2Nvf\\xae\\xa8\\xc2\\xc2\\xff7\\x0e\\x10\\xa3\\xc8r\\x1e\\xa5\\x16R\\xb4\\xccd\\xd5g\\x03)Gq:\\x8e\\x828\\x91\\xa4aav\\x90\\xbc\\n\\xd0\\x82t\\x83$\\x8e\\xd1\\xa7\\xbf\\x8bs\\tg1\\xbd\\xec\\xcd\\xf1\\xdb\\xe0|\\x82\\x8e\\x9a\\xf3&R{b5\\xde\\x8e\\x14\\xcb\\xc7\\x8c\\x13\\xe7\\x13\\xa7]\\xa0\\xa8\\x9d\\x0b\\xc3\\xab\\xaf\\xc4KtI\\xca\\xe5#\\x0f\\xa5d}$co\\x1729-\\xa0\\xbf\\x93I\\x99\\xfd\\xe9W3\\xceo\\xc3\\x85\\x86\\x1b1\\xcf\\x86M\\xfb\\x80>x\\x98]G\\xe8\\xbd\\xb0\\x87W\\xdd7\\xef\\xd8\\xe8\\x88[7yq\\x92?u0!y\\x9dq\\x877\\xee\\xb4\\xc3E\\x91\\x17y\\x00\\x8fE\\x16\\xe0\\xb6(\\x8a \\nf\\x1d\\x88\\xdd\\x9a\\x9d\\xc0\\x08\\x9b\\x80\\x94\\x01\\x7f=/M\\xf5V#\\x9c\\x8eH\\xcd\\xa6A\\xed\\x9b\\xc7\\xf5\\x0f\\x0f\\x05\\xe7\\xba\\xd1\\xf4\\x7f\\xfc\\x14z\\xf1\\x93\\xef\\xba\\xde\\x9b\\xfa\\xfe\\xa7\\x1em\\x0c\\x9f\\xff\\xdcwn\\xa3\\x1b-\\x17\\xfc\\xad\\xe3\\xbb\\xe7|\\xc8,v\\x80\\xabXm8\\x0b\\xdb\\x07\\x0b\\xe5\\xbdr\\xd2oZF\\xfa|te}\\xdcX\\xac/\\xb4\\xf1X\\x1b\\x9fPs\\x0e\\x8b\\x079\\xc1\\x87\\x99\\xdb\\x9fO\\xc8|k\\x9fuc|\\xf23\\x9b\\xa9\\xf5x\\t)O\\xfc\\xd6\\xa5]\\xaaH\\x07\\x15\\xc1\\x05G\\r\\xe5\\xd4\\xcf'\\xda\\xb4\\xcb\\xc4\\xdf/!\\x86\\x16\\xf4\\x03I\\xba|\\x84\\x1dqh\\x98Z0\\x04c\\x82\\x81M4\\x92\\xc8\\x97M\\x82\\xf3\\t\\x85&'6\\x12\\xa8\\xdb\\x8b\\x7f\\xfcv\\x13Y_\\xdc\\xab\\xfd\\xa0+\\xdb\\xc5\\xc4\\xe6\\xb2*\\x83\\x92\\x18\\x8f\\xd20\\xb0*\\x07\\xa8\\xf9N@\\xbf\\x9850\\xbe\\x85\\xefP.P\\x94\\xb4Q\\x90\\x98,\\x98\\xbb\\\\A;\\xb7\\x90\\r44\\x99B8ja\\x93;\\xa8$s&5\\xd1\\x9c\\xd3&5\\xff\\x01\\x1b\\xe1\\xebh8\\x8f\\xb4\\xb9.\\x89\\xc9 \\xc1@\\xa3.\\x130,:\\x88\\xa5\\xf1M\\xba4;\\xb6\\t\\x8e8\\x14&\\xe4\\xca\\xabx\\xddnO:\\xef\\xaec\\xf6\\xb5\\xb8\\x94_\\x1f\\xf5\\xf7\\xda\\xcd\\xe9_\\x87P4}\\t\\xe3\\x88.\\xe28\\x88-\\xb1\\xb6Ix\\xfd\\xd8\\x1f\\xae\\x17x\\xedYkEI\\xc0w\\xc1%\\xdbf\\x99\\xb3\\xfe\\xdcB\\xf0\\xe5}\\xf2\\x8fe\\x97m\\xff\\x06\\xe4\\xcb\\x80u\"\n"
     ]
    }
   ],
   "source": [
    "import base45\n",
    "\n",
    "decoded_data = base45.b45decode(encoded_data)\n",
    "print(\"Decoded data:\", decoded_data)"
   ]
  },
  {
   "cell_type": "markdown",
   "metadata": {},
   "source": [
    "### Uncompress data"
   ]
  },
  {
   "cell_type": "code",
   "execution_count": 40,
   "metadata": {},
   "outputs": [
    {
     "name": "stdout",
     "output_type": "stream",
     "text": [
      "Uncompressed decoded data: b'eyJhbGciOiJFUzI1NiIsInR5cCI6IkpXVCJ9.eyJpYXQiOjE3NDExOTQ3NDAsIm5iZiI6MTc0MTE5NDc0MCwiZXhwIjoxNzcyNzMwNzQwLCJ2YyI6eyJAY29udGV4dCI6WyJodHRwczovL3d3dy53My5vcmcvMjAxOC9jcmVkZW50aWFscy92MSIsImh0dHBzOi8vdzNpZC5vcmcvdmMvc3RhdHVzLWxpc3QvMjAyMS92MSJdLCJ0eXBlIjpbIlZlcmlmaWFibGVDcmVkZW50aWFsIiwiRUhJQ0NyZWRlbnRpYWwiXSwiY3JlZGVudGlhbFN1YmplY3QiOnsiaWMiOiJCRSIsImhuIjp7ImZuIjoiQ2xcdTAwZTltZW50LUxhZmFyZ2UiLCJnbiI6IkplYW4tUGllcnJlLCBGclx1MDBlOWRcdTAwZTlyaWMifSwiZG9iIjoiMjktMDItMjAwMCIsImhpIjoiMDAwMTAxOTk5OSIsImlpIjoiMDIxNlgiLCJpbiI6IkxBTVVUVUFMSVRFTkVVVFJFIiwiY2kiOiIwMjFYWFhYWFhYMjAyMzAzNTQwNyIsInNkIjoiMjgtMDItMjAyMyIsImVkIjoiMjktMDItMjAyNCIsImlkIjoiMzEtMDEtMjAyNCJ9LCJjcmVkZW50aWFsU2NoZW1hIjp7ImlkIjoiaHR0cHM6Ly9hcGktcGlsb3QuZWJzaS5ldS90cnVzdGVkLXNjaGVtYXMtcmVnaXN0cnkvdjMvc2NoZW1hcy8weGZhODk5ZmQyYmMyYTVhNjZhZDUxZjk4ODE4MTM0MDFlYmUwMmY3ZGQ0MGIwOTI2YzNlNDljOTUxNGE3N2NiNmEiLCJ0eXBlIjoiRnVsbEpzb25TY2hlbWFWYWxpZGF0b3IyMDIxIn19LCJpc3MiOiJFU1NJOkJFOjAxMDA6M2U0N2IzMzQwNTJkMjU3NWYxOTQzYzhhZjQxMDI2NTgwODEwZjg4YzMwYTIzNmRiMGVmMTliZGQ4YTVkOTJhMiJ9.yCbhdkAXzUmgwR_1eW_-du85UZqHGijnWMLJZ1LLFL0i82YGg-EHgeMgnck0JOFhBFeRARR387AMI_C7h-4mRA'\n"
     ]
    }
   ],
   "source": [
    "import zlib\n",
    "\n",
    "# Use ZLib to decompress the decoded data\n",
    "uncompressed_data = zlib.decompress(decoded_data)\n",
    "print(\"Uncompressed decoded data:\", uncompressed_data)"
   ]
  },
  {
   "cell_type": "markdown",
   "metadata": {},
   "source": [
    "### Verify the signature\n",
    "The uncompressed decoded data is assumed to be a signed JWT. It is verified with the public key and decoded"
   ]
  },
  {
   "cell_type": "code",
   "execution_count": 41,
   "metadata": {},
   "outputs": [
    {
     "name": "stdout",
     "output_type": "stream",
     "text": [
      "Decoded JWS:\n",
      "{\n",
      "    \"iat\": 1741194740,\n",
      "    \"nbf\": 1741194740,\n",
      "    \"exp\": 1772730740,\n",
      "    \"vc\": {\n",
      "        \"@context\": [\n",
      "            \"https://www.w3.org/2018/credentials/v1\",\n",
      "            \"https://w3id.org/vc/status-list/2021/v1\"\n",
      "        ],\n",
      "        \"type\": [\n",
      "            \"VerifiableCredential\",\n",
      "            \"EHICCredential\"\n",
      "        ],\n",
      "        \"credentialSubject\": {\n",
      "            \"ic\": \"BE\",\n",
      "            \"hn\": {\n",
      "                \"fn\": \"Clément-Lafarge\",\n",
      "                \"gn\": \"Jean-Pierre, Frédéric\"\n",
      "            },\n",
      "            \"dob\": \"29-02-2000\",\n",
      "            \"hi\": \"0001019999\",\n",
      "            \"ii\": \"0216X\",\n",
      "            \"in\": \"LAMUTUALITENEUTRE\",\n",
      "            \"ci\": \"021XXXXXXX2023035407\",\n",
      "            \"sd\": \"28-02-2023\",\n",
      "            \"ed\": \"29-02-2024\",\n",
      "            \"id\": \"31-01-2024\"\n",
      "        },\n",
      "        \"credentialSchema\": {\n",
      "            \"id\": \"https://api-pilot.ebsi.eu/trusted-schemas-registry/v3/schemas/0xfa899fd2bc2a5a66ad51f9881813401ebe02f7dd40b0926c3e49c9514a77cb6a\",\n",
      "            \"type\": \"FullJsonSchemaValidator2021\"\n",
      "        }\n",
      "    },\n",
      "    \"iss\": \"ESSI:BE:0100:3e47b334052d2575f1943c8af41026580810f88c30a236db0ef19bdd8a5d92a2\"\n",
      "}\n"
     ]
    }
   ],
   "source": [
    "import jwt\n",
    "import json\n",
    "\n",
    "decoded_jws = jwt.decode(uncompressed_data, public_key_pem, algorithms=['ES256'])\n",
    "print(\"Decoded JWS:\")\n",
    "print(json.dumps(decoded_jws, indent=4, ensure_ascii=False))"
   ]
  }
 ],
 "metadata": {
  "kernelspec": {
   "display_name": ".venv",
   "language": "python",
   "name": "python3"
  },
  "language_info": {
   "codemirror_mode": {
    "name": "ipython",
    "version": 3
   },
   "file_extension": ".py",
   "mimetype": "text/x-python",
   "name": "python",
   "nbconvert_exporter": "python",
   "pygments_lexer": "ipython3",
   "version": "3.12.8"
  }
 },
 "nbformat": 4,
 "nbformat_minor": 2
}
