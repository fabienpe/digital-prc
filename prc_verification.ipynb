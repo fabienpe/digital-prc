{
 "cells": [
  {
   "cell_type": "markdown",
   "metadata": {},
   "source": [
    "## Verification of PRC QR code"
   ]
  },
  {
   "cell_type": "code",
   "execution_count": 1,
   "metadata": {},
   "outputs": [],
   "source": [
    "# Load the public key from the PEM file\n",
    "with open('public_key_ec.pem', 'rb') as f:\n",
    "    public_key_pem = f.read()"
   ]
  },
  {
   "cell_type": "markdown",
   "metadata": {},
   "source": [
    "### Read QR code"
   ]
  },
  {
   "cell_type": "code",
   "execution_count": 2,
   "metadata": {},
   "outputs": [
    {
     "name": "stdout",
     "output_type": "stream",
     "text": [
      "Data encoded in the QR code: 6BFF$B/PB+MKXQ2EFWDO2VHE049N-CK 4 417.S+YIP%7A42T.DY41V:F89V0*P+.0IMLSSFY:5X9M$ULY4J1M2QBHPUFQ 466CC*BQ36.YL+XQ%BME*D0:NRBLP6L2*OB2EO9QLCLP/C9YBQEQZJGAEMG83C6CHU5-A8*.EOB8NUFH1VRG85QAW6NLNS*5M0/D$6265RY5R39B9PFQRS9+KGC1*$BI$F7SMLSV5HR:YB3AP%QPQEM7Y7V/N7KC7QAH 2M M0YH:62ZT9:R5B*QAW5XRL./DQ0PWUKPCA8:R74A NO7UM10CZNUB65U3KQJP9392 SX.2JPJ39F3:TEGL0E2-F5TL5/X7VWI5AV3 Q/HC-GDTVK778-%2LT5*YMR-O7/97BA+N78U6MRV.NI 607F9%N9OQDQONWWJ6FN9OTZ16QXN%LVZKBPAS%GI+L2+RMX59HFFAUE+PV.CD-45A:S$QEF-K5MJAE9ASN9JKQ LG-S90S4T9R-4I.EG-536CUMDDNV.WM.7E73JVDMI0EDI0*+F%A2V4A/6W26CRBQM5IXZSC0AJNVB+0.NIR 8U7G+.9ES1JT3170%QSGDP/XH6124QHH$OM-UKCOXYT N2*3G81A:CTG3Q9F6S.MEZ0O06+UPYY178J+9VB5GBD1RQV8TL2$VZ6UG0RB.H-NVXCSM+G3ZM2QV19PDAQ55KXTDC8RV:MWR5Y-DKXI9DD:3FBW8VQV:HP%CNS8BK4D2MMS8E20VB OJLEB:6H7NX7KX9W5U76MBK*S2*6N6EFQFRIF$V6NZDOY8FCLQ/G1NL67LG.75PNA:OL9OH83XAKC99A4TKWDH$9*$OC84VQCA$F7M4ES739PD-73AAFI2-A1BWV-6FS0MR3UUAAF1WXIB9*89-5EE4CDH%25VK0* MSJBUC0QTEWJS8TB+UHVO6%F2O%Q7/8G5RHLJ5*C0$KGAU302HDEP*M-.7P+N6RAVO6K8NHQC6 TR2F27R1PKS$H/VCMTHQGK*CTA59GJR%MD+LLSECRG6RWIBXM1$96ZTTQIEYED7N4I8I:P8:J/.3I5W3YF5Y39.R$3WF*5YL205K9456XOECUNV3C/P1-9/VT$:VFAI.-L4GC9GV VB$MO2RKQDTQZU5GN%XTKOJQPS8-ECI2NOVI3\n"
     ]
    }
   ],
   "source": [
    "from pyzbar.pyzbar import decode\n",
    "from PIL import Image\n",
    "\n",
    "# Load the QR code image\n",
    "img = Image.open('qrcode.png')\n",
    "\n",
    "# Decode the QR code\n",
    "decoded_objects = decode(img)\n",
    "\n",
    "# Extract the data from the decoded objects\n",
    "encoded_data = decoded_objects[0].data.decode('utf-8')\n",
    "print(\"Data encoded in the QR code:\", encoded_data)\n"
   ]
  },
  {
   "cell_type": "markdown",
   "metadata": {},
   "source": [
    "### Decode the content of the QR code"
   ]
  },
  {
   "cell_type": "code",
   "execution_count": 3,
   "metadata": {},
   "outputs": [
    {
     "name": "stdout",
     "output_type": "stream",
     "text": [
      "Decoded data: b'x\\x9c]\\x93[\\x93\\xa2:\\x14\\x85\\xff\\xd1\\x14\\x17q\\xdaG\\xe5f8&\\x0c\\x08\\xc1\\xe4\\xe5\\x94\\x84>&\\x10\\x90nT\\x08\\xbf~\\x82\\xf6\\xd4\\xcc\\x9c\\x07\\x8a\\xaa\\r{\\xaf/k\\xaf\\xbc\\xab\\x88\\x97!\\x13\\xb1\\x88\\x82|\\x06&\\x12`\\x00]\\xea0\\x17\\xacA\\xd3\\x9f\\xb0\\x1bm\\xbe\\xbd\\xab\\xa8\\'\\xa7D\\xc4\\xb5o#\\xcfW\\xa8Nf\\x94]\\x06\\xd0:\\x82\\n\\xb0\\x86\\x193`\\x06,\\xe4A3vGAO|\\x04\\xf5uB3S\\xb1\\xb7\\x1d\\xe1\\x9c\\xaf\\x0end\\x11\\x05\\xd6z\\xd6\\x96X\\x9b{\\x15\\xe2U\\xa5E\\n\\x15]\\xab}:\\xb2\\xf9\\xfa8\\xd8\\x95])\\xc7\\x86\\xcay\\xb0\\x96=`\\xbd\\x9dbwS\\xb3\\x167\\xb4p\\x8cs\\x11\\x0cLm,x\\xd4\\x90-7\\xaa\\xfdn\\x8e\\xc5\\xdb\\xa3\\x9aQO\\xddWO\\xd5\\xc2\\x07\\xb3S^\\xed\\xf1|(\\xa6\\x9e\\xd9\\xc92G\\xc1\\xe3\\xd2\\x17U\\x9a\\xc3x?\\xed$\\xa8\\xfb\\x12H*Y+[=W\\x94!\\xf6\\xfe\\xd4\\x01b\\x14i\\xce\\xa3\\xc4@\\x8a\\x16\\xa9,\\xbb\\xb4\\'\\xc5(N\\xc7Q\\x10;\\x924\\xc4\\xfa\\x0c\\x92\\x97\\x012I\\xdbKbk\\x7f\\xbaA\\x9c\\x0b\\xb8\\x98\\xe9\\xa6/\\xc6\\xbb\\xd6\\xf9\\x0eZ\\xaa\\xdfW\\x91X\\x13\\xab\\xb2\\xedH3y[t\\x0e\\xf9\\xc4i\\x1b(j\\xe5Bsu\\xa5x\\x9a.I\\xb1\\xba\\xe5\\xa1\\x94\\xac\\x8b\\xe4\\xc1\\xdd\\x85LN&\\xf4v2.\\xd2_\\xfdj\\xd1\\xf9O\\xb3\\xd0p#\\x96\\xd9\\xb0nn\\xd0\\x037}\\xd6\\x11\\xbaO\\xed\\xfeY_\\xfc\\xcf\\xb4\\x8fY\\xe3\\xc4O&\\xf9U\\x07\\x13\\x92\\x97E\\xb7\\x7f\\xe9N\\xbb\\x0c\\xe3\\x1c\\xe7\\x01<\\xe24\\xc8\\x1a\\x8cq\\x10\\x05\\x8b\\x0f\\xc4j\\xf4\\x99\\xc0\\x08\\xeb\\x80\\x14\\x01\\x7f>OO\\xe7\\xad\\xceA2\"\\xb5\\x84\\x065/\\x8e\\xcb/\\x0e\\x05\\x97\\xba\\xf6\\xf4\\x7f|\\n=\\xf9\\xe4\\xab>\\xfb\\xba\\xee\\x7f\\xd5\\xa3\\x8d\\xe6\\xf9k\\xdf\\xb9\\x85\\xae\\xb40\\xf9\\xcb\\xc7W\\xcfy\\x9f\\x1al\\x0f\\xd7\\x07\\xb5\\xe1,ln,\\x94Ci\\'wZD\\xf3\\xf9\\xe8\\xc8\\xea\\xb81X\\x87g\\x9d\\xb1\\xe6pB\\xf59\\xc47r\\x827=\\xb7;\\x9f\\x90\\xfe\\xd6<\\xaaZ\\xe7\\xe4k6So\\xe3{Hy\\xec5\\x0em\\x13EZ\\xa8H\\x869\\xaa)\\xa7^>\\xd1\\xbaY\\xc5\\x9e\\xbf\\x82\\x194\\xa0\\x17H\\xd2\\xe6#l\\x89M\\xc3\\xc4\\x80!\\x18c\\x9d}2#\\x89<Y\\xc7Y>\\xa1P\\xdf\\x13\\x0b\\t\\xd4\\xfa\\xe2w\\xde\\xae\"\\xed\\xf0P\\xfa\\xfd\\\\ZNF,.\\xcb\"(\\x88\\xce(\\r\\x03\\xa3\\xb4\\x81Zv\\x02:s\\xf1\\xe0\\xf3\\\\$\\x8b\\xe73\\xcd\\x12\\x9b\\xd4pF\\xde\\xd6\\x84\\x9a\\re\\xcc\\xa4\\xb5\\xef \\x0f\\xd5q\\x18\\xb4\\xfa>\\xea\\xbd\\x10S\\xdf3\\xcd\\xb7kc\\x8f\\xeb\\xbfw\\x1c\\xd6\\xd0\\xa2\\x9a\\x8d\\x16d\\x8a\\x8b\\xa8\\xa1\\x1e\\xe7\\xa8H\\x1c\\xd8\\xfaj\\xd9\\xa9\\xf6a~2a\\x94\\x1d\\xb3\\xdeM\\xb3\\xeb\\x92\\x93\\x11t\\xc6\\xb77Bv\\xcd\\x8f\\x9e\\x0f\\x1fH\\xfe\\x13|\\xa4\\x1d\\xba\\xdc\\xfe\\xfd\\xcc.w\\x13\\xa5\\x9f\\x15(J\\xc3\\xab\\xefx\\x1dE\\xcd\\\\Ng\\xeb\\x03\\xfd\\x18\\x903\\xad|a\\xc0\\xf8\\x10\\\\\\x9a\\xc1\\xdb\\xa2\\xf5\\xe7\\xc8\\xf3\\x8f\\xb8\\xc4\\xebX\\x9a\\x97\\xe1\\xfbu\\xfb\\x13\\x08\\xf9\\x86\\x99'\n"
     ]
    }
   ],
   "source": [
    "import base45\n",
    "\n",
    "decoded_data = base45.b45decode(encoded_data)\n",
    "print(\"Decoded data:\", decoded_data)"
   ]
  },
  {
   "cell_type": "markdown",
   "metadata": {},
   "source": [
    "### Uncompress data"
   ]
  },
  {
   "cell_type": "code",
   "execution_count": 4,
   "metadata": {},
   "outputs": [
    {
     "name": "stdout",
     "output_type": "stream",
     "text": [
      "Uncompressed decoded data: b'eyJhbGciOiJFUzI1NiIsInR5cCI6IkpXVCJ9.eyJpYXQiOjE3NDEyNjQzNTgsIm5iZiI6MTc0MTI2NDM1OCwiZXhwIjoxNzcyODAwMzU4LCJ2YyI6eyJAY29udGV4dCI6WyJodHRwczovL3d3dy53My5vcmcvMjAxOC9jcmVkZW50aWFscy92MSIsImh0dHBzOi8vdzNpZC5vcmcvdmMvc3RhdHVzLWxpc3QvMjAyMS92MSJdLCJ0eXBlIjpbIlZlcmlmaWFibGVDcmVkZW50aWFsIiwiRUhJQ0NyZWRlbnRpYWwiXSwiY3JlZGVudGlhbFN1YmplY3QiOnsiaWMiOiJCRSIsImhuIjp7ImZuIjoiQ2xcdTAwZTltZW50LUxhZmFyZ2UiLCJnbiI6IkplYW4tUGllcnJlLCBGclx1MDBlOWRcdTAwZTlyaWMifSwiZG9iIjoiMjktMDItMjAwMCIsImhpIjoiMDAwMTAxOTk5OSIsImlpIjoiMDIxNlgiLCJpbiI6IkxBTVVUVUFMSVRFTkVVVFJFIiwiY2kiOiIwMjFYWFhYWFhYMjAyMzAzNTQwNyIsInNkIjoiMjgtMDItMjAyMyIsImVkIjoiMjktMDItMjAyNCIsImlkIjoiMzEtMDEtMjAyNCJ9LCJjcmVkZW50aWFsU2NoZW1hIjp7ImlkIjoiaHR0cHM6Ly9hcGktcGlsb3QuZWJzaS5ldS90cnVzdGVkLXNjaGVtYXMtcmVnaXN0cnkvdjMvc2NoZW1hcy8weGZhODk5ZmQyYmMyYTVhNjZhZDUxZjk4ODE4MTM0MDFlYmUwMmY3ZGQ0MGIwOTI2YzNlNDljOTUxNGE3N2NiNmEiLCJ0eXBlIjoiRnVsbEpzb25TY2hlbWFWYWxpZGF0b3IyMDIxIn19LCJraWQiOiIzZTQ3YjMzNDA1MmQyNTc1ZjE5NDNjOGFmNDEwMjY1ODA4MTBmODhjMzBhMjM2ZGIwZWYxOWJkZDhhNWQ5MmEyIiwiaXNzIjoiRVNTSTpCRTowMTAwIn0.8YYBkPphsqNlKFqRnNgt_rTgu1NRrdIWb0DjuV6JJkzbxa2qNPsN5x4Ei0MOLFgksDAN6rwhUqObV6Ol1gs7oA'\n"
     ]
    }
   ],
   "source": [
    "import zlib\n",
    "\n",
    "# Use ZLib to decompress the decoded data\n",
    "uncompressed_data = zlib.decompress(decoded_data)\n",
    "print(\"Uncompressed decoded data:\", uncompressed_data)"
   ]
  },
  {
   "cell_type": "markdown",
   "metadata": {},
   "source": [
    "### Verify the signature\n",
    "The uncompressed decoded data is assumed to be a signed JWT. It is verified with the public key and decoded"
   ]
  },
  {
   "cell_type": "code",
   "execution_count": 5,
   "metadata": {},
   "outputs": [
    {
     "name": "stdout",
     "output_type": "stream",
     "text": [
      "Decoded JWS:\n",
      "{\n",
      "    \"iat\": 1741264358,\n",
      "    \"nbf\": 1741264358,\n",
      "    \"exp\": 1772800358,\n",
      "    \"vc\": {\n",
      "        \"@context\": [\n",
      "            \"https://www.w3.org/2018/credentials/v1\",\n",
      "            \"https://w3id.org/vc/status-list/2021/v1\"\n",
      "        ],\n",
      "        \"type\": [\n",
      "            \"VerifiableCredential\",\n",
      "            \"EHICCredential\"\n",
      "        ],\n",
      "        \"credentialSubject\": {\n",
      "            \"ic\": \"BE\",\n",
      "            \"hn\": {\n",
      "                \"fn\": \"Clément-Lafarge\",\n",
      "                \"gn\": \"Jean-Pierre, Frédéric\"\n",
      "            },\n",
      "            \"dob\": \"29-02-2000\",\n",
      "            \"hi\": \"0001019999\",\n",
      "            \"ii\": \"0216X\",\n",
      "            \"in\": \"LAMUTUALITENEUTRE\",\n",
      "            \"ci\": \"021XXXXXXX2023035407\",\n",
      "            \"sd\": \"28-02-2023\",\n",
      "            \"ed\": \"29-02-2024\",\n",
      "            \"id\": \"31-01-2024\"\n",
      "        },\n",
      "        \"credentialSchema\": {\n",
      "            \"id\": \"https://api-pilot.ebsi.eu/trusted-schemas-registry/v3/schemas/0xfa899fd2bc2a5a66ad51f9881813401ebe02f7dd40b0926c3e49c9514a77cb6a\",\n",
      "            \"type\": \"FullJsonSchemaValidator2021\"\n",
      "        }\n",
      "    },\n",
      "    \"kid\": \"3e47b334052d2575f1943c8af41026580810f88c30a236db0ef19bdd8a5d92a2\",\n",
      "    \"iss\": \"ESSI:BE:0100\"\n",
      "}\n"
     ]
    }
   ],
   "source": [
    "import jwt\n",
    "import json\n",
    "\n",
    "decoded_jws = jwt.decode(uncompressed_data, public_key_pem, algorithms=['ES256'])\n",
    "print(\"Decoded JWS:\")\n",
    "print(json.dumps(decoded_jws, indent=4, ensure_ascii=False))"
   ]
  }
 ],
 "metadata": {
  "kernelspec": {
   "display_name": ".venv",
   "language": "python",
   "name": "python3"
  },
  "language_info": {
   "codemirror_mode": {
    "name": "ipython",
    "version": 3
   },
   "file_extension": ".py",
   "mimetype": "text/x-python",
   "name": "python",
   "nbconvert_exporter": "python",
   "pygments_lexer": "ipython3",
   "version": "3.12.8"
  }
 },
 "nbformat": 4,
 "nbformat_minor": 2
}
